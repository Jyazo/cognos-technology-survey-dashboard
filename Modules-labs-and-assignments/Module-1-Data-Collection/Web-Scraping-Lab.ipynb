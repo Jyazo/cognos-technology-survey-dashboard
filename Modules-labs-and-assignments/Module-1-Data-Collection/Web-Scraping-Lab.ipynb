{
 "cells": [
  {
   "cell_type": "markdown",
   "id": "ae63d0b4-2f03-4ed9-9971-2f5e2cf9d82b",
   "metadata": {},
   "source": [
    "<p style=\"text-align:center\">\n",
    "    <a href=\"https://skills.network\" target=\"_blank\">\n",
    "    <img src=\"https://cf-courses-data.s3.us.cloud-object-storage.appdomain.cloud/assets/logos/SN_web_lightmode.png\" width=\"350\" alt=\"Skills Network Logo\">\n",
    "    </a>\n",
    "</p>\n"
   ]
  },
  {
   "cell_type": "markdown",
   "id": "26d1db54-9a31-48c7-b593-b073465d6bae",
   "metadata": {},
   "source": [
    "# **Hands-on Lab : Web Scraping**\n"
   ]
  },
  {
   "cell_type": "markdown",
   "id": "301ac567-11da-4d55-a8de-29149543f5f7",
   "metadata": {},
   "source": [
    "Estimated time needed: **30 to 45** minutes\n"
   ]
  },
  {
   "cell_type": "markdown",
   "id": "afae37cf-48ac-4cfa-8ea6-b6d6f154cc0e",
   "metadata": {},
   "source": [
    "## Objectives\n"
   ]
  },
  {
   "cell_type": "markdown",
   "id": "0b656527-5612-4241-b07b-b33db5ea6315",
   "metadata": {},
   "source": [
    "In this lab you will perform the following:\n"
   ]
  },
  {
   "cell_type": "markdown",
   "id": "860ff4ab-557b-41df-9c62-4cb1b98610f2",
   "metadata": {},
   "source": [
    "-   Extract information from a given web site \n",
    "-   Write the scraped data into a csv file.\n"
   ]
  },
  {
   "cell_type": "markdown",
   "id": "06668a61-d6f6-49a3-a550-6654e41ad183",
   "metadata": {},
   "source": [
    "## Extract information from the given web site\n",
    "\n",
    "You will extract the data from the below web site: <br> \n"
   ]
  },
  {
   "cell_type": "code",
   "execution_count": 3,
   "id": "2b9e4f44-b7c3-493c-acd4-9b13c80aadbe",
   "metadata": {},
   "outputs": [],
   "source": [
    "#this url contains the data you need to scrape\n",
    "url = \"https://cf-courses-data.s3.us.cloud-object-storage.appdomain.cloud/IBM-DA0321EN-SkillsNetwork/labs/datasets/Programming_Languages.html\""
   ]
  },
  {
   "cell_type": "markdown",
   "id": "ed775d0a-a805-4dfb-984a-17b41a6e3301",
   "metadata": {},
   "source": [
    "The data you need to scrape is the **name of the programming language** and **average annual salary**.<br> It is a good idea to open the url in your web broswer and study the contents of the web page before you start to scrape.\n"
   ]
  },
  {
   "cell_type": "markdown",
   "id": "1ec1d6a0-01b8-4b37-9370-5bd57c5c14c6",
   "metadata": {},
   "source": [
    "Import the required libraries\n"
   ]
  },
  {
   "cell_type": "code",
   "execution_count": 4,
   "id": "84617691-0655-4f73-affb-20fa572bc605",
   "metadata": {},
   "outputs": [],
   "source": [
    "# Your code here\n",
    "from bs4 import BeautifulSoup\n",
    "import requests"
   ]
  },
  {
   "cell_type": "markdown",
   "id": "eb3dc203-46c4-4ae4-8060-8b74544ae414",
   "metadata": {},
   "source": [
    "Download the webpage at the url\n"
   ]
  },
  {
   "cell_type": "code",
   "execution_count": 5,
   "id": "6f9f2d55-941a-4ee8-a3e5-fdca062a1ac1",
   "metadata": {},
   "outputs": [],
   "source": [
    "#your code goes here\n",
    "data = requests.get(url).text"
   ]
  },
  {
   "cell_type": "markdown",
   "id": "fb8e802c-8da9-41df-b2f7-17eea07447f3",
   "metadata": {},
   "source": [
    "Create a soup object\n"
   ]
  },
  {
   "cell_type": "code",
   "execution_count": 6,
   "id": "63ae4a79-b90d-4a02-98fe-54c85b3bde8f",
   "metadata": {},
   "outputs": [],
   "source": [
    "#your code goes here\n",
    "soup = BeautifulSoup(data, 'html.parser')"
   ]
  },
  {
   "cell_type": "markdown",
   "id": "019ca7ea-b10e-47de-84de-9f933aad9708",
   "metadata": {},
   "source": [
    "Scrape the `Language name`, `Created By` `annual average salary`and `Learning Difficulty`.\n"
   ]
  },
  {
   "cell_type": "code",
   "execution_count": 7,
   "id": "8eddc29c-99b7-40b4-89d6-cd8b33702b39",
   "metadata": {},
   "outputs": [],
   "source": [
    "#your code goes here\n",
    "table = soup.find('table')\n",
    "language_name = []\n",
    "created_by = []\n",
    "average_salary = []\n",
    "learning_difficulty = []\n",
    "\n",
    "for row in table.find_all('tr')[1:]:\n",
    "    cols = row.find_all('td')\n",
    "    language_name.append(cols[1].text)\n",
    "    created_by.append(cols[2].text)\n",
    "    average_salary.append(cols[3].text)\n",
    "    learning_difficulty.append(cols[4].text)\n",
    "\n"
   ]
  },
  {
   "cell_type": "markdown",
   "id": "f08858c3-70fa-4546-b035-3ad6ec969d8a",
   "metadata": {},
   "source": [
    "Create a _dataframe_ for scrapped data\n"
   ]
  },
  {
   "cell_type": "code",
   "execution_count": 8,
   "id": "3b7dade7-69f6-489a-ab6e-971bc68a70bb",
   "metadata": {},
   "outputs": [
    {
     "name": "stdout",
     "output_type": "stream",
     "text": [
      "     Language                                 Created By  \\\n",
      "0      Python                           Guido van Rossum   \n",
      "1        Java                              James Gosling   \n",
      "2           R               Robert Gentleman, Ross Ihaka   \n",
      "3  Javascript                                   Netscape   \n",
      "4       Swift                                      Apple   \n",
      "5         C++                          Bjarne Stroustrup   \n",
      "6          C#                                  Microsoft   \n",
      "7         PHP                             Rasmus Lerdorf   \n",
      "8         SQL    Donald D. Chamberlin, Raymond F. Boyce.   \n",
      "9          Go  Robert Griesemer, Ken Thompson, Rob Pike.   \n",
      "\n",
      "  Average Annual Salary Learning Difficulty  \n",
      "0              $114,383                Easy  \n",
      "1              $101,013                Easy  \n",
      "2               $92,037                Hard  \n",
      "3              $110,981                Easy  \n",
      "4              $130,801                Easy  \n",
      "5              $113,865                Hard  \n",
      "6               $88,726                Hard  \n",
      "7               $84,727                Easy  \n",
      "8               $84,793                Easy  \n",
      "9               $94,082           Difficult  \n"
     ]
    }
   ],
   "source": [
    "import pandas as pd\n",
    "\n",
    "df = pd.DataFrame({\n",
    "    'Language': language_name,\n",
    "    'Created By': created_by,\n",
    "    'Average Annual Salary': average_salary,\n",
    "    'Learning Difficulty': learning_difficulty\n",
    "})\n",
    "\n",
    "print(df)"
   ]
  },
  {
   "cell_type": "markdown",
   "id": "f6043e11-3e20-4c84-8c25-7b37f0b4ceb3",
   "metadata": {},
   "source": [
    "Save the scrapped data into a file named _popular-languages.csv_\n"
   ]
  },
  {
   "cell_type": "code",
   "execution_count": 9,
   "id": "4ba0155d-2709-4503-89a7-c7fb206be3d4",
   "metadata": {},
   "outputs": [],
   "source": [
    "# your code goes here\n",
    "df.to_csv('popular-languages.csv', index=False)"
   ]
  },
  {
   "cell_type": "code",
   "execution_count": 2,
   "metadata": {},
   "outputs": [
    {
     "data": {
      "text/plain": [
       "<Figure size 1000x600 with 0 Axes>"
      ]
     },
     "metadata": {},
     "output_type": "display_data"
    },
    {
     "data": {
      "image/png": "[encoded data removed]",
      "text/plain": [
       "<Figure size 640x480 with 1 Axes>"
      ]
     },
     "metadata": {},
     "output_type": "display_data"
    }
   ],
   "source": [
    "import pandas as pd\n",
    "import matplotlib.pyplot as plt\n",
    "\n",
    "df = pd.read_csv('popular-languages.csv')\n",
    "df['Average Annual Salary'] = df['Average Annual Salary'].str.replace('$', '').str.replace(',', '').astype(float)\n",
    "\n",
    "df_sorted = df.sort_values('Average Annual Salary', ascending=False)\n",
    "\n",
    "plt.figure(figsize=(10, 6))\n",
    "df_sorted.plot(kind='bar', x='Language', y='Average Annual Salary')\n",
    "plt.xticks(rotation=45)\n",
    "plt.tight_layout()\n",
    "plt.show()"
   ]
  },
  {
   "cell_type": "markdown",
   "id": "fcc1304c-685f-40ac-a513-ec305c75c612",
   "metadata": {},
   "source": [
    "## Authors\n"
   ]
  },
  {
   "cell_type": "markdown",
   "id": "d677105e-b414-4f99-9fe0-2f802251a6ab",
   "metadata": {},
   "source": [
    "Ramesh Sannareddy\n"
   ]
  },
  {
   "cell_type": "markdown",
   "id": "86df0015-2302-42b5-8ab1-98b9625e0b3c",
   "metadata": {},
   "source": [
    "### Other Contributors\n"
   ]
  },
  {
   "cell_type": "markdown",
   "id": "e4b8c211-239d-4f48-b3d8-e3e864b51d08",
   "metadata": {},
   "source": [
    "Rav Ahuja\n"
   ]
  },
  {
   "cell_type": "markdown",
   "id": "fbe6f92b-d5e6-4ad3-b753-acc2fcc2e0cb",
   "metadata": {},
   "source": [
    " Copyright © 2020 IBM Corporation. This notebook and its source code are released under the terms of the [MIT License](https://cognitiveclass.ai/mit-license?cm_mmc=Email_Newsletter-_-Developer_Ed%2BTech-_-WW_WW-_-SkillsNetwork-Courses-IBM-DA0321EN-SkillsNetwork-21426264&cm_mmca1=000026UJ&cm_mmca2=10006555&cm_mmca3=M12345678&cvosrc=email.Newsletter.M12345678&cvo_campaign=000026UJ&cm_mmc=Email_Newsletter-_-Developer_Ed%2BTech-_-WW_WW-_-SkillsNetwork-Courses-IBM-DA0321EN-SkillsNetwork-21426264&cm_mmca1=000026UJ&cm_mmca2=10006555&cm_mmca3=M12345678&cvosrc=email.Newsletter.M12345678&cvo_campaign=000026UJ&cm_mmc=Email_Newsletter-_-Developer_Ed%2BTech-_-WW_WW-_-SkillsNetwork-Courses-IBM-DA0321EN-SkillsNetwork-21426264&cm_mmca1=000026UJ&cm_mmca2=10006555&cm_mmca3=M12345678&cvosrc=email.Newsletter.M12345678&cvo_campaign=000026UJ&cm_mmc=Email_Newsletter-_-Developer_Ed%2BTech-_-WW_WW-_-SkillsNetwork-Courses-IBM-DA0321EN-SkillsNetwork-21426264&cm_mmca1=000026UJ&cm_mmca2=10006555&cm_mmca3=M12345678&cvosrc=email.Newsletter.M12345678&cvo_campaign=000026UJ).\n"
   ]
  },
  {
   "cell_type": "markdown",
   "id": "61c5ac91-16e2-409a-a2a3-669599e850c0",
   "metadata": {},
   "source": [
    "<!--## Change Log\n"
   ]
  },
  {
   "cell_type": "markdown",
   "id": "27620deb-9991-45b5-b47b-12d8d5fbf1dd",
   "metadata": {},
   "source": [
    "<!--| Date (YYYY-MM-DD) | Version | Changed By        | Change Description                 |\n",
    "| ----------------- | ------- | ----------------- | ---------------------------------- |\n",
    "| 2020-10-17        | 0.1     | Ramesh Sannareddy | Created initial version of the lab |--!>\n"
   ]
  }
 ],
 "metadata": {
  "kernelspec": {
   "display_name": "Python 3",
   "language": "python",
   "name": "python3"
  },
  "language_info": {
   "codemirror_mode": {
    "name": "ipython",
    "version": 3
   },
   "file_extension": ".py",
   "mimetype": "text/x-python",
   "name": "python",
   "nbconvert_exporter": "python",
   "pygments_lexer": "ipython3",
   "version": "3.13.0"
  },
  "prev_pub_hash": "c838ffa7965d064e48c85a3596bb0e9a3401e52b8c7066bb27875cd34479a09c"
 },
 "nbformat": 4,
 "nbformat_minor": 4
}
